{
 "cells": [
  {
   "cell_type": "markdown",
   "id": "fc78f4f0-f8ab-4ba2-947b-2a3d269744c6",
   "metadata": {},
   "source": [
    "Deanna Clayton Module 2 Bonus"
   ]
  },
  {
   "cell_type": "markdown",
   "id": "8b38b522-74b7-4b29-9731-8d7efb0a358d",
   "metadata": {},
   "source": [
    "Find the central tendencies of patient payments per day."
   ]
  },
  {
   "cell_type": "code",
   "execution_count": 14,
   "id": "33ce908e-cf59-4419-8381-99e1c36be86a",
   "metadata": {},
   "outputs": [],
   "source": [
    "import statistics"
   ]
  },
  {
   "cell_type": "code",
   "execution_count": 15,
   "id": "ad363228-59ac-4392-908a-64b4f387bca6",
   "metadata": {},
   "outputs": [],
   "source": [
    "payments = [50, 50, 80, 65, 45, 100, 110, 50, 10, 25, 465, 582, 325, 37, 37, 37, 45, 50, 45, 10, \n",
    "           50, 45, 100, 25, 405, 215, 150, 506, 30, 15, 25, 50, 45, 10, 108, 65, 50, 37, 45, 80, \n",
    "           65, 90, 50, 35, 68, 40, 25, 50, 235, 346, 50, 50, 80, 65, 45, 100, 110, 50, 10, 25,\n",
    "           465, 582, 325, 37, 37, 37, 45, 50, 45, 10, 50, 45, 100, 25, 405, 215, 150, 506, 30, 15, \n",
    "           25, 50, 45, 10, 108, 65, 50, 37, 45, 80, 65, 90, 50, 35, 68, 40, 25, 50, 235, 346,\n",
    "           50, 50, 80, 65, 45, 100, 110, 50, 10, 25, 465, 582, 325, 37, 37, 37, 45, 50, 45, 10]"
   ]
  },
  {
   "cell_type": "code",
   "execution_count": 16,
   "id": "73abf5c4-545d-4363-b5be-dbe65cdf6f10",
   "metadata": {},
   "outputs": [],
   "source": [
    "count = len(payments)"
   ]
  },
  {
   "cell_type": "code",
   "execution_count": 17,
   "id": "67837381-afc0-48fc-b9bd-b071221823fd",
   "metadata": {},
   "outputs": [],
   "source": [
    "total = sum(payments)"
   ]
  },
  {
   "cell_type": "code",
   "execution_count": 18,
   "id": "e78bb6e1-bda6-4dcc-87fb-9d13eed0ac7c",
   "metadata": {},
   "outputs": [],
   "source": [
    "mean = statistics.mean(payments)"
   ]
  },
  {
   "cell_type": "code",
   "execution_count": 19,
   "id": "53360777-c4e0-4c35-891a-46a41816a9cf",
   "metadata": {},
   "outputs": [],
   "source": [
    "median = statistics.median(payments)"
   ]
  },
  {
   "cell_type": "code",
   "execution_count": 20,
   "id": "76bcfa36-f6d2-4920-a3f7-52fe4528da67",
   "metadata": {},
   "outputs": [],
   "source": [
    "mode = statistics.mode(payments)"
   ]
  },
  {
   "cell_type": "code",
   "execution_count": 21,
   "id": "085167ff-852d-41f7-a7cd-8d2a0b1ddd9e",
   "metadata": {},
   "outputs": [
    {
     "name": "stdout",
     "output_type": "stream",
     "text": [
      "Length: 120 , Sum: 12774 , Mean: 106.45 , Median: 50.0 , Mode 50\n"
     ]
    }
   ],
   "source": [
    "print('Length:', count, ', Sum:', total, ', Mean:', mean, ', Median:', median, ', Mode', mode)"
   ]
  },
  {
   "cell_type": "code",
   "execution_count": null,
   "id": "27fb53cd-9ad9-44b8-8950-7a2690d2d1b9",
   "metadata": {},
   "outputs": [],
   "source": []
  }
 ],
 "metadata": {
  "kernelspec": {
   "display_name": "Python 3 (ipykernel)",
   "language": "python",
   "name": "python3"
  },
  "language_info": {
   "codemirror_mode": {
    "name": "ipython",
    "version": 3
   },
   "file_extension": ".py",
   "mimetype": "text/x-python",
   "name": "python",
   "nbconvert_exporter": "python",
   "pygments_lexer": "ipython3",
   "version": "3.9.12"
  }
 },
 "nbformat": 4,
 "nbformat_minor": 5
}

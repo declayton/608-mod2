{
 "cells": [
  {
   "cell_type": "markdown",
   "id": "1587358d-1d52-4a17-a526-418d603f347c",
   "metadata": {},
   "source": [
    "Deanna Clayton Module 2 Notebook"
   ]
  },
  {
   "cell_type": "markdown",
   "id": "77fce58e-7964-47af-af33-60e247b75a6f",
   "metadata": {},
   "source": [
    "3.3 Pseudocode"
   ]
  },
  {
   "cell_type": "code",
   "execution_count": 49,
   "id": "2c8ab7da-0bef-491d-bd6b-ee63099fce76",
   "metadata": {},
   "outputs": [
    {
     "name": "stdin",
     "output_type": "stream",
     "text": [
      "Please enter the first integer: 10\n"
     ]
    }
   ],
   "source": [
    "number_1 = int(input('Please enter the first integer:'))"
   ]
  },
  {
   "cell_type": "code",
   "execution_count": 50,
   "id": "8193cebb-6845-4505-a810-58f2ec17efa1",
   "metadata": {},
   "outputs": [
    {
     "name": "stdin",
     "output_type": "stream",
     "text": [
      "Please enter the second integer: 5\n"
     ]
    }
   ],
   "source": [
    "number_2 = int(input('Please enter the second integer:'))"
   ]
  },
  {
   "cell_type": "code",
   "execution_count": 51,
   "id": "490d8b4f-2d6d-4041-9441-d58a8657762b",
   "metadata": {},
   "outputs": [],
   "source": [
    "total = number_1 + number_2"
   ]
  },
  {
   "cell_type": "code",
   "execution_count": 52,
   "id": "d22646cd-7d9f-47c1-ab87-8ce02d52603a",
   "metadata": {},
   "outputs": [
    {
     "name": "stdout",
     "output_type": "stream",
     "text": [
      "The sum of 10 and 5 is 15\n"
     ]
    }
   ],
   "source": [
    "print('The sum of', number_1, 'and', number_2, 'is', total)"
   ]
  },
  {
   "cell_type": "markdown",
   "id": "163a9722-30bf-4ac2-aa93-80fa89e7630f",
   "metadata": {},
   "source": [
    "3.5 - 3.6 If...Elif...Else Statements"
   ]
  },
  {
   "cell_type": "code",
   "execution_count": 53,
   "id": "3df82101-68f1-43cf-ae09-e28a60f3dfcd",
   "metadata": {},
   "outputs": [],
   "source": [
    "grade = 74"
   ]
  },
  {
   "cell_type": "code",
   "execution_count": 54,
   "id": "bfb5cb1e-5927-4e91-a708-521163e3666f",
   "metadata": {},
   "outputs": [],
   "source": [
    "if grade >= 90:\n",
    "    result = 'A'\n",
    "elif grade >= 80:\n",
    "    result = 'B'\n",
    "elif grade >= 70:\n",
    "    result = 'C'\n",
    "elif grade >= 60:\n",
    "    result = 'D'\n",
    "else:\n",
    "    result = 'Failed'"
   ]
  },
  {
   "cell_type": "code",
   "execution_count": 55,
   "id": "cd939466-0b69-497c-8f2d-0f555f0c2bf5",
   "metadata": {},
   "outputs": [
    {
     "data": {
      "text/plain": [
       "'C'"
      ]
     },
     "execution_count": 55,
     "metadata": {},
     "output_type": "execute_result"
    }
   ],
   "source": [
    "result"
   ]
  },
  {
   "cell_type": "markdown",
   "id": "fb65f0a2-ff7d-4fa3-b110-1148d52ed6e0",
   "metadata": {},
   "source": [
    "3.7 While Statement"
   ]
  },
  {
   "cell_type": "code",
   "execution_count": 56,
   "id": "563052e3-18b2-42ec-b19f-749985a234c7",
   "metadata": {},
   "outputs": [],
   "source": [
    "product = 3"
   ]
  },
  {
   "cell_type": "code",
   "execution_count": 57,
   "id": "fddf743e-9d50-4dcf-a650-4bc65a3879ef",
   "metadata": {},
   "outputs": [],
   "source": [
    "while product <= 100:\n",
    "    product = product * 4"
   ]
  },
  {
   "cell_type": "code",
   "execution_count": 58,
   "id": "877d3ddd-fc92-4447-9e0f-afde2500a45c",
   "metadata": {},
   "outputs": [
    {
     "data": {
      "text/plain": [
       "192"
      ]
     },
     "execution_count": 58,
     "metadata": {},
     "output_type": "execute_result"
    }
   ],
   "source": [
    "product"
   ]
  },
  {
   "cell_type": "markdown",
   "id": "f754c6cc-640a-4c43-8d3f-12e460759390",
   "metadata": {},
   "source": [
    "3.8 For Statement and Range Function"
   ]
  },
  {
   "cell_type": "code",
   "execution_count": 59,
   "id": "a5c5f658-448a-4b8d-9ad7-2448c5604378",
   "metadata": {},
   "outputs": [
    {
     "name": "stdout",
     "output_type": "stream",
     "text": [
      "S  t  a  t  i  s  t  i  c  s  "
     ]
    }
   ],
   "source": [
    "for character in 'Statistics':\n",
    "    print(character, end = '  ')"
   ]
  },
  {
   "cell_type": "code",
   "execution_count": 60,
   "id": "899648f7-e487-4983-b817-b273b589f376",
   "metadata": {},
   "outputs": [],
   "source": [
    "total = 0"
   ]
  },
  {
   "cell_type": "code",
   "execution_count": 61,
   "id": "5735b7bd-aea7-4014-8ceb-d01a669f8da5",
   "metadata": {},
   "outputs": [],
   "source": [
    "for number in [2, -3, 0, 17, 9]:\n",
    "    total = total + number"
   ]
  },
  {
   "cell_type": "code",
   "execution_count": 62,
   "id": "75bf9407-860d-4902-acbd-eb05925868d0",
   "metadata": {},
   "outputs": [
    {
     "data": {
      "text/plain": [
       "25"
      ]
     },
     "execution_count": 62,
     "metadata": {},
     "output_type": "execute_result"
    }
   ],
   "source": [
    "total"
   ]
  },
  {
   "cell_type": "code",
   "execution_count": 68,
   "id": "98df835b-418f-4323-abc1-614c5cf3c9eb",
   "metadata": {},
   "outputs": [],
   "source": [
    "total = 0"
   ]
  },
  {
   "cell_type": "code",
   "execution_count": 69,
   "id": "ae5e2db2-1da2-43a9-bacc-f0f4513ac383",
   "metadata": {},
   "outputs": [],
   "source": [
    "for number in range(1000001):\n",
    "    total += number"
   ]
  },
  {
   "cell_type": "code",
   "execution_count": 70,
   "id": "165765b6-a00e-4c6b-bc25-1162349d88bd",
   "metadata": {},
   "outputs": [
    {
     "data": {
      "text/plain": [
       "500000500000"
      ]
     },
     "execution_count": 70,
     "metadata": {},
     "output_type": "execute_result"
    }
   ],
   "source": [
    "total"
   ]
  },
  {
   "cell_type": "markdown",
   "id": "d5dd0747-5877-4e9d-9988-1a4c7cfa019c",
   "metadata": {},
   "source": [
    "3.9 Augmented Assignment"
   ]
  },
  {
   "cell_type": "code",
   "execution_count": 71,
   "id": "c572b4ed-99b3-48a3-9148-c9545b75b5dd",
   "metadata": {},
   "outputs": [],
   "source": [
    "x = 12"
   ]
  },
  {
   "cell_type": "code",
   "execution_count": 72,
   "id": "fa3bbc52-ff22-46d6-b512-23772f0fe0f3",
   "metadata": {},
   "outputs": [],
   "source": [
    "x **= 2"
   ]
  },
  {
   "cell_type": "code",
   "execution_count": 73,
   "id": "9cd369a8-4f19-4a0f-b1e7-6fe0c35649f1",
   "metadata": {},
   "outputs": [
    {
     "data": {
      "text/plain": [
       "144"
      ]
     },
     "execution_count": 73,
     "metadata": {},
     "output_type": "execute_result"
    }
   ],
   "source": [
    "x"
   ]
  },
  {
   "cell_type": "markdown",
   "id": "64691b32-0d9f-46bb-bd43-48bbfb555a6a",
   "metadata": {},
   "source": [
    "3.10 Sequence-Controlled Repetition"
   ]
  },
  {
   "cell_type": "code",
   "execution_count": 74,
   "id": "bdedfb3d-5951-4d20-b4d4-601404a17c77",
   "metadata": {},
   "outputs": [],
   "source": [
    "total = 0"
   ]
  },
  {
   "cell_type": "code",
   "execution_count": 75,
   "id": "c1aeea3a-79d8-46de-b1c7-29a7ea5461b2",
   "metadata": {},
   "outputs": [],
   "source": [
    "grade_counter = 0"
   ]
  },
  {
   "cell_type": "code",
   "execution_count": 76,
   "id": "a0020817-87a3-4139-aee7-9c9a0351d1df",
   "metadata": {},
   "outputs": [],
   "source": [
    "grades = [98, 76, 71, 87, 83, 90 ,57, 79, 82, 94]"
   ]
  },
  {
   "cell_type": "code",
   "execution_count": 79,
   "id": "43f2892f-271c-41a7-918d-8474116dfc48",
   "metadata": {},
   "outputs": [],
   "source": [
    "for grade in grades:\n",
    "    total += grade\n",
    "    grade_counter += 1"
   ]
  },
  {
   "cell_type": "code",
   "execution_count": 80,
   "id": "f4a713cb-585a-424d-83d9-21d250acb29e",
   "metadata": {},
   "outputs": [],
   "source": [
    "average = total / grade_counter"
   ]
  },
  {
   "cell_type": "code",
   "execution_count": 81,
   "id": "061527a8-1bcd-4827-b3ce-5980f035dbd4",
   "metadata": {},
   "outputs": [
    {
     "name": "stdout",
     "output_type": "stream",
     "text": [
      "The class average is 81.7\n"
     ]
    }
   ],
   "source": [
    "print('The class average is', average)"
   ]
  },
  {
   "cell_type": "markdown",
   "id": "ba79f630-a4b7-4521-8a7e-caccd5c81920",
   "metadata": {},
   "source": [
    "3.13 Range Function"
   ]
  },
  {
   "cell_type": "code",
   "execution_count": 82,
   "id": "d4e16b1e-a7f2-45ee-a943-9d4bfb24f16d",
   "metadata": {},
   "outputs": [
    {
     "name": "stdout",
     "output_type": "stream",
     "text": [
      "5 6 7 8 9 "
     ]
    }
   ],
   "source": [
    "for number in range(5, 10):\n",
    "    print(number, end=' ')"
   ]
  },
  {
   "cell_type": "code",
   "execution_count": 83,
   "id": "fc64ba08-7138-4d52-971b-985b5f5b96a6",
   "metadata": {},
   "outputs": [
    {
     "name": "stdout",
     "output_type": "stream",
     "text": [
      "0 5 10 15 20 25 30 35 40 45 50 55 60 65 70 75 80 85 90 95 100 "
     ]
    }
   ],
   "source": [
    "for number in range (0, 101, 5):\n",
    "    print(number, end=' ')"
   ]
  },
  {
   "cell_type": "markdown",
   "id": "8897ac1a-f0a7-47c8-959d-46360b0866f1",
   "metadata": {},
   "source": [
    "3.15 Break and Continue Statements"
   ]
  },
  {
   "cell_type": "code",
   "execution_count": 84,
   "id": "a8a2db85-514e-4791-970d-7e4875a46065",
   "metadata": {},
   "outputs": [
    {
     "name": "stdout",
     "output_type": "stream",
     "text": [
      "0 1 2 3 4 5 6 7 8 9 10 11 12 13 14 15 16 17 18 19 "
     ]
    }
   ],
   "source": [
    "for number in range(100):\n",
    "    if number == 20:\n",
    "        break\n",
    "    print(number, end=' ')"
   ]
  },
  {
   "cell_type": "code",
   "execution_count": 85,
   "id": "34443b01-bf2b-425d-b284-53afb9ee9503",
   "metadata": {},
   "outputs": [
    {
     "name": "stdout",
     "output_type": "stream",
     "text": [
      "0 1 2 3 4 6 7 8 9 "
     ]
    }
   ],
   "source": [
    "for number in range(10):\n",
    "    if number == 5:\n",
    "        continue\n",
    "    print(number, end=' ')"
   ]
  },
  {
   "cell_type": "markdown",
   "id": "74f8553d-f59e-4277-86cb-5b81822db9f3",
   "metadata": {},
   "source": [
    "3.16 Boolean Operators: and, or, not"
   ]
  },
  {
   "cell_type": "code",
   "execution_count": 86,
   "id": "0976b1ba-15a5-41a4-8f4d-512c9dc092eb",
   "metadata": {},
   "outputs": [],
   "source": [
    "i = 1\n",
    "j = 2\n",
    "k = 3\n",
    "m = 2"
   ]
  },
  {
   "cell_type": "code",
   "execution_count": 87,
   "id": "9d69c405-fd5f-4d2c-9516-ea2b3b26c1e8",
   "metadata": {},
   "outputs": [
    {
     "data": {
      "text/plain": [
       "True"
      ]
     },
     "execution_count": 87,
     "metadata": {},
     "output_type": "execute_result"
    }
   ],
   "source": [
    "(i >= 1) and (j <4)"
   ]
  },
  {
   "cell_type": "code",
   "execution_count": 88,
   "id": "445d29f9-2eb4-4af7-812e-e61ca6a3645f",
   "metadata": {},
   "outputs": [
    {
     "data": {
      "text/plain": [
       "False"
      ]
     },
     "execution_count": 88,
     "metadata": {},
     "output_type": "execute_result"
    }
   ],
   "source": [
    "(m <= 99) and (k < m)"
   ]
  },
  {
   "cell_type": "code",
   "execution_count": 89,
   "id": "dd3c9eff-5f41-4180-8e79-6eea6003c7b4",
   "metadata": {},
   "outputs": [
    {
     "data": {
      "text/plain": [
       "True"
      ]
     },
     "execution_count": 89,
     "metadata": {},
     "output_type": "execute_result"
    }
   ],
   "source": [
    "(j >= i) or (k == m)"
   ]
  },
  {
   "cell_type": "code",
   "execution_count": 90,
   "id": "8724a4ce-b545-4e4a-a845-3374ceebd8b0",
   "metadata": {},
   "outputs": [
    {
     "data": {
      "text/plain": [
       "False"
      ]
     },
     "execution_count": 90,
     "metadata": {},
     "output_type": "execute_result"
    }
   ],
   "source": [
    "(k + m < j) or (3 - j >= k)"
   ]
  },
  {
   "cell_type": "code",
   "execution_count": 92,
   "id": "aff684d8-9d9b-4b76-a47b-251e394e1ff2",
   "metadata": {},
   "outputs": [
    {
     "data": {
      "text/plain": [
       "True"
      ]
     },
     "execution_count": 92,
     "metadata": {},
     "output_type": "execute_result"
    }
   ],
   "source": [
    "(k > m)"
   ]
  },
  {
   "cell_type": "code",
   "execution_count": 91,
   "id": "d1f50325-78c8-4075-b536-5fe6ce1bf2e0",
   "metadata": {},
   "outputs": [
    {
     "data": {
      "text/plain": [
       "False"
      ]
     },
     "execution_count": 91,
     "metadata": {},
     "output_type": "execute_result"
    }
   ],
   "source": [
    "not (k > m)"
   ]
  },
  {
   "cell_type": "markdown",
   "id": "2af5c26c-ca62-4aba-a69d-0b043cabffee",
   "metadata": {},
   "source": [
    "3.17 Central Tendency"
   ]
  },
  {
   "cell_type": "code",
   "execution_count": 20,
   "id": "29b25130-b5e2-43a8-bb9c-15e63ef0fe7f",
   "metadata": {},
   "outputs": [],
   "source": [
    "import statistics"
   ]
  },
  {
   "cell_type": "code",
   "execution_count": 42,
   "id": "24239317-454e-4bc4-ac89-f00bfbc36c95",
   "metadata": {},
   "outputs": [],
   "source": [
    "x = [5, 876, 92, 543, 107, 65, 3, 920, 84, 543, 170]"
   ]
  },
  {
   "cell_type": "code",
   "execution_count": 43,
   "id": "1e1b7bb9-ca4f-4b1b-8297-f6b3a1974ca3",
   "metadata": {},
   "outputs": [],
   "source": [
    "count = len(x)"
   ]
  },
  {
   "cell_type": "code",
   "execution_count": 44,
   "id": "2f0ea8fe-b0bb-4ef2-8332-4c4d6feb07c4",
   "metadata": {},
   "outputs": [],
   "source": [
    "total = sum(x)"
   ]
  },
  {
   "cell_type": "code",
   "execution_count": 45,
   "id": "50aaa707-e32a-4f8b-899c-0c7bf4106260",
   "metadata": {},
   "outputs": [
    {
     "name": "stdout",
     "output_type": "stream",
     "text": [
      "Count: 11 , and Total: 3408\n"
     ]
    }
   ],
   "source": [
    "print('Count:', count, ', and Total:', total)"
   ]
  },
  {
   "cell_type": "code",
   "execution_count": 46,
   "id": "55f19677-70aa-4541-b798-ce6e663a3ba6",
   "metadata": {},
   "outputs": [
    {
     "data": {
      "text/plain": [
       "309.8181818181818"
      ]
     },
     "execution_count": 46,
     "metadata": {},
     "output_type": "execute_result"
    }
   ],
   "source": [
    "statistics.mean(x)"
   ]
  },
  {
   "cell_type": "code",
   "execution_count": 47,
   "id": "088bc1ee-7c9e-4da3-b03a-018bd43ff7ad",
   "metadata": {},
   "outputs": [
    {
     "data": {
      "text/plain": [
       "107"
      ]
     },
     "execution_count": 47,
     "metadata": {},
     "output_type": "execute_result"
    }
   ],
   "source": [
    "statistics.median(x)"
   ]
  },
  {
   "cell_type": "code",
   "execution_count": 48,
   "id": "b274cd2f-5cd0-4bad-8398-c41697ae21bb",
   "metadata": {},
   "outputs": [
    {
     "data": {
      "text/plain": [
       "543"
      ]
     },
     "execution_count": 48,
     "metadata": {},
     "output_type": "execute_result"
    }
   ],
   "source": [
    "statistics.mode(x)"
   ]
  }
 ],
 "metadata": {
  "kernelspec": {
   "display_name": "Python 3 (ipykernel)",
   "language": "python",
   "name": "python3"
  },
  "language_info": {
   "codemirror_mode": {
    "name": "ipython",
    "version": 3
   },
   "file_extension": ".py",
   "mimetype": "text/x-python",
   "name": "python",
   "nbconvert_exporter": "python",
   "pygments_lexer": "ipython3",
   "version": "3.9.12"
  }
 },
 "nbformat": 4,
 "nbformat_minor": 5
}
